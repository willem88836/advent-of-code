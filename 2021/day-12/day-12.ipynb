{
 "cells": [
  {
   "cell_type": "code",
   "execution_count": 223,
   "metadata": {},
   "outputs": [],
   "source": [
    "with open(\"./day-12.dat\", \"r\") as data_file:\n",
    "    data = [entry.strip() for entry in data_file.readlines()]\n"
   ]
  },
  {
   "cell_type": "code",
   "execution_count": 224,
   "metadata": {},
   "outputs": [
    {
     "name": "stdout",
     "output_type": "stream",
     "text": [
      "path_count=4792\n"
     ]
    }
   ],
   "source": [
    "def build_graph():\n",
    "    graph = {}\n",
    "    for entry in data:\n",
    "        fr, to = entry.split(\"-\")\n",
    "\n",
    "        if not fr in graph:\n",
    "            graph[fr] = [to]\n",
    "        else:\n",
    "            graph[fr].append(to)\n",
    "\n",
    "        if not to in graph:\n",
    "            graph[to] = [fr]\n",
    "        else:\n",
    "            graph[to].append(fr)\n",
    "    return graph\n",
    "\n",
    "\n",
    "def find_paths(graph, current_node=\"start\", traversed_small_caves: set = {\"start\"}):\n",
    "    if current_node == \"end\":\n",
    "        return 1\n",
    "\n",
    "    edges = graph[current_node]\n",
    "    paths = 0\n",
    "\n",
    "    for edge in edges:\n",
    "        is_small_cave = not edge[0].isupper()\n",
    "\n",
    "        if not is_small_cave or not edge in traversed_small_caves:\n",
    "            traversed_small_caves.add(edge)\n",
    "            paths += find_paths(graph, edge, traversed_small_caves)\n",
    "            if edge in traversed_small_caves:\n",
    "                traversed_small_caves.remove(edge)\n",
    "\n",
    "    return paths\n",
    "\n",
    "\n",
    "graph = build_graph()\n",
    "path_count = find_paths(graph)\n",
    "print(f\"{path_count=}\")\n"
   ]
  },
  {
   "cell_type": "code",
   "execution_count": 225,
   "metadata": {},
   "outputs": [
    {
     "name": "stdout",
     "output_type": "stream",
     "text": [
      "longer_path_count=133360\n"
     ]
    }
   ],
   "source": [
    "def find_longer_paths(graph, repeated_small_cave, current_node=\"start\", traversed_small_caves:set={\"start\"}): \n",
    "    if current_node == \"end\": \n",
    "        return 1\n",
    "    \n",
    "    edges = graph[current_node]\n",
    "    paths = 0\n",
    "\n",
    "    for edge in edges: \n",
    "        if edge == \"start\": \n",
    "            continue\n",
    "        \n",
    "        if edge == repeated_small_cave: \n",
    "            continue\n",
    "        \n",
    "        is_small_cave = not edge[0].isupper()\n",
    "        if not is_small_cave: \n",
    "            paths += find_longer_paths(graph, repeated_small_cave, edge, traversed_small_caves)\n",
    "            continue\n",
    "\n",
    "        if not edge in traversed_small_caves or repeated_small_cave == None:\n",
    "            # sets repeated cave\n",
    "            if edge in traversed_small_caves: \n",
    "                repeated_small_cave = edge\n",
    "            \n",
    "            traversed_small_caves.add(edge)\n",
    "\n",
    "            # recursion\n",
    "            paths += find_longer_paths(graph, repeated_small_cave, edge, traversed_small_caves)\n",
    "\n",
    "            # removes small cave again\n",
    "            if repeated_small_cave != edge: \n",
    "                traversed_small_caves.remove(edge)\n",
    "            # removes repeated cave\n",
    "            else: \n",
    "                repeated_small_cave = None\n",
    "    \n",
    "    return paths\n",
    "\n",
    "longer_path_count = find_longer_paths(graph, None)\n",
    "print(f'{longer_path_count=}')"
   ]
  }
 ],
 "metadata": {
  "interpreter": {
   "hash": "916dbcbb3f70747c44a77c7bcd40155683ae19c65e1c03b4aa3499c5328201f1"
  },
  "kernelspec": {
   "display_name": "Python 3.8.10 64-bit",
   "language": "python",
   "name": "python3"
  },
  "language_info": {
   "codemirror_mode": {
    "name": "ipython",
    "version": 3
   },
   "file_extension": ".py",
   "mimetype": "text/x-python",
   "name": "python",
   "nbconvert_exporter": "python",
   "pygments_lexer": "ipython3",
   "version": "3.8.10"
  },
  "orig_nbformat": 4
 },
 "nbformat": 4,
 "nbformat_minor": 2
}
