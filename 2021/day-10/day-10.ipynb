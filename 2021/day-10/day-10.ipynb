{
 "cells": [
  {
   "cell_type": "code",
   "execution_count": 61,
   "metadata": {},
   "outputs": [],
   "source": [
    "import math\n",
    "\n",
    "with open(\"./day-10.dat\", \"r\") as data_file: \n",
    "    entries = [entry.strip() for entry in data_file.readlines()]"
   ]
  },
  {
   "cell_type": "code",
   "execution_count": 62,
   "metadata": {},
   "outputs": [
    {
     "name": "stdout",
     "output_type": "stream",
     "text": [
      "score=339477\n",
      "middle_fix_score=3049320156\n"
     ]
    }
   ],
   "source": [
    "score_list = {\n",
    "    \"(\":3, \n",
    "    \"[\":57,\n",
    "    \"{\":1197,\n",
    "    \"<\":25137\n",
    "}\n",
    "\n",
    "fix_score_list = {\n",
    "    \"(\":1, \n",
    "    \"[\":2,\n",
    "    \"{\":3,\n",
    "    \"<\":4\n",
    "}\n",
    "\n",
    "bracket_match = {\n",
    "    \")\":\"(\", \n",
    "    \"]\":\"[\",\n",
    "    \"}\":\"{\",\n",
    "    \">\":\"<\"\n",
    "}\n",
    "\n",
    "brackets = []\n",
    "\n",
    "score = 0\n",
    "fix_scores = []\n",
    "\n",
    "for entry in entries:\n",
    "    did_break = False\n",
    "    for char in entry: \n",
    "        if char in \"([{<\": \n",
    "            brackets.append(char)\n",
    "        else: \n",
    "            match = bracket_match[char]\n",
    "            expected = brackets.pop()\n",
    "            if match != expected: \n",
    "                score += score_list[match]\n",
    "                did_break = True\n",
    "                break\n",
    "    \n",
    "    # part two\n",
    "    fix_score = 0\n",
    "    while len(brackets) > 0 and not did_break: \n",
    "        char = brackets.pop()\n",
    "        fix_score *= 5\n",
    "        fix_score += fix_score_list[char] \n",
    "    if fix_score > 0: \n",
    "        fix_scores.append(fix_score)\n",
    "\n",
    "    brackets.clear() \n",
    "\n",
    "fix_scores.sort()\n",
    "middle_fix_score = fix_scores[math.floor(len(fix_scores) / 2)]\n",
    "\n",
    "print(f'{score=}')\n",
    "print(f'{middle_fix_score=}')"
   ]
  }
 ],
 "metadata": {
  "interpreter": {
   "hash": "916dbcbb3f70747c44a77c7bcd40155683ae19c65e1c03b4aa3499c5328201f1"
  },
  "kernelspec": {
   "display_name": "Python 3.8.10 64-bit",
   "language": "python",
   "name": "python3"
  },
  "language_info": {
   "codemirror_mode": {
    "name": "ipython",
    "version": 3
   },
   "file_extension": ".py",
   "mimetype": "text/x-python",
   "name": "python",
   "nbconvert_exporter": "python",
   "pygments_lexer": "ipython3",
   "version": "3.8.10"
  },
  "orig_nbformat": 4
 },
 "nbformat": 4,
 "nbformat_minor": 2
}
