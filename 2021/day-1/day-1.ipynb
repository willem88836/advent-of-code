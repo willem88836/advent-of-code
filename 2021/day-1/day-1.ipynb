{
 "cells": [
  {
   "cell_type": "code",
   "execution_count": 23,
   "metadata": {},
   "outputs": [
    {
     "name": "stdout",
     "output_type": "stream",
     "text": [
      "count=1581\n"
     ]
    }
   ],
   "source": [
    "with open(\"./day-1.dat\", \"r\") as data_file: \n",
    "    data = data_file.readlines()"
   ]
  },
  {
   "cell_type": "code",
   "execution_count": null,
   "metadata": {},
   "outputs": [],
   "source": [
    "\n",
    "count = 0\n",
    "previous_depth: int = int(data[0])\n",
    "for depth in data: \n",
    "    if int(depth) > previous_depth: \n",
    "        count += 1\n",
    "    previous_depth = int(depth)\n",
    "\n",
    "print(f'{count=}')"
   ]
  },
  {
   "cell_type": "code",
   "execution_count": 24,
   "metadata": {},
   "outputs": [
    {
     "name": "stdout",
     "output_type": "stream",
     "text": [
      "count=1618\n"
     ]
    }
   ],
   "source": [
    "number_data = [int(entry) for entry in data]\n",
    "\n",
    "count = 0\n",
    "\n",
    "prev_sum:int = number_data[0] + number_data[1] + number_data[2]\n",
    "for i in range(len(number_data) - 2): \n",
    "    subset = number_data[i:i+3]\n",
    "    sum = subset[0] + subset[1] + subset[2]\n",
    "\n",
    "    if (sum > prev_sum): \n",
    "        count += 1\n",
    "    prev_sum = sum\n",
    "\n",
    "print(f'{count=}')"
   ]
  }
 ],
 "metadata": {
  "interpreter": {
   "hash": "916dbcbb3f70747c44a77c7bcd40155683ae19c65e1c03b4aa3499c5328201f1"
  },
  "kernelspec": {
   "display_name": "Python 3.8.10 64-bit",
   "language": "python",
   "name": "python3"
  },
  "language_info": {
   "codemirror_mode": {
    "name": "ipython",
    "version": 3
   },
   "file_extension": ".py",
   "mimetype": "text/x-python",
   "name": "python",
   "nbconvert_exporter": "python",
   "pygments_lexer": "ipython3",
   "version": "3.8.10"
  },
  "orig_nbformat": 4
 },
 "nbformat": 4,
 "nbformat_minor": 2
}
