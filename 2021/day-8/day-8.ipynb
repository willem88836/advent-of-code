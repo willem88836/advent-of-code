{
 "cells": [
  {
   "cell_type": "code",
   "execution_count": 186,
   "metadata": {},
   "outputs": [],
   "source": [
    "def sort_first(entry): \n",
    "    return [sorted(entry[0], key=lambda x:len(x)), entry[1]]\n",
    "\n",
    "with open(\"./day-8.dat\", \"r\") as data_file:\n",
    "    data_raw = data_file.readlines()\n",
    "    entries = [\n",
    "        [cells.split(\" \") for cells in entry.strip().split(\" | \")] for entry in data_raw\n",
    "    ]\n",
    "    for i in range(len(entries)): \n",
    "        entries[i] = [sorted(entries[i][0], key=lambda x:len(x)), entries[i][1]]"
   ]
  },
  {
   "cell_type": "code",
   "execution_count": 187,
   "metadata": {},
   "outputs": [
    {
     "name": "stdout",
     "output_type": "stream",
     "text": [
      "count=381\n"
     ]
    }
   ],
   "source": [
    "counts = {\n",
    "    0:0,\n",
    "    1:0,\n",
    "    2:0,\n",
    "    3:0\n",
    "}\n",
    "\n",
    "for entry in entries:\n",
    "    numbers = [\n",
    "        sorted(entry[0][0]),\n",
    "        sorted(entry[0][2]),\n",
    "        sorted(entry[0][1]),\n",
    "        sorted(entry[0][9])\n",
    "    ]\n",
    "\n",
    "    for output in entry[1]: \n",
    "        s_o = sorted(output)\n",
    "        for i in range(len(numbers)): \n",
    "            num = numbers[i]\n",
    "            if s_o == num: \n",
    "                counts[i] += 1\n",
    "\n",
    "count = sum(counts.values())\n",
    "\n",
    "print(f'{count=}')"
   ]
  },
  {
   "cell_type": "code",
   "execution_count": 188,
   "metadata": {},
   "outputs": [
    {
     "name": "stdout",
     "output_type": "stream",
     "text": [
      "count=1023686\n"
     ]
    }
   ],
   "source": [
    "def matches(itemA, itemB):\n",
    "    return sorted(itemA) == sorted(itemB)\n",
    "\n",
    "\n",
    "def contains(itemA, itemB: set):\n",
    "    l_itemA = list(itemA)\n",
    "    for e in itemB:\n",
    "        if not e in l_itemA:\n",
    "            return False\n",
    "    return True\n",
    "\n",
    "\n",
    "count = 0\n",
    "\n",
    "for entry in entries:\n",
    "    one = entry[0][0]\n",
    "    four = entry[0][2]\n",
    "    seven = entry[0][1]\n",
    "    eight = entry[0][9]\n",
    "\n",
    "    # finding nine\n",
    "    un = set(four)\n",
    "    un = un.union(seven)\n",
    "    for nine_index in range(6, 9):\n",
    "        nine = entry[0][nine_index]\n",
    "        if contains(nine, un):\n",
    "            break\n",
    "\n",
    "    # finding three\n",
    "    un = set(nine).difference(four).union(one)\n",
    "    for three_index in range(3, 6):\n",
    "        three = entry[0][three_index]\n",
    "        if contains(three, un):\n",
    "            break\n",
    "\n",
    "    # finding zero\n",
    "    un = set(nine).difference(three).union(seven)\n",
    "    for zero_index in range(6, 9):\n",
    "        zero = entry[0][zero_index]\n",
    "        if zero_index != nine_index and contains(zero, un):\n",
    "            break\n",
    "\n",
    "    # finding six\n",
    "    six_index = set(range(6, 9))\n",
    "    six_index.remove(zero_index)\n",
    "    six_index.remove(nine_index)\n",
    "    six_index = list(six_index)[0]\n",
    "    six = entry[0][six_index]\n",
    "\n",
    "    # finding two\n",
    "    un = set(eight).difference(six)\n",
    "    for two_index in range(3, 6):\n",
    "        two = entry[0][two_index]\n",
    "        if two_index != three_index and contains(two, un):\n",
    "            break\n",
    "\n",
    "    # finding five\n",
    "    five_index = set(range(3, 6))\n",
    "    five_index.remove(two_index)\n",
    "    five_index.remove(three_index)\n",
    "    five_index = list(five_index)[0]\n",
    "    five = entry[0][five_index]\n",
    "\n",
    "    numbers = [zero, one, two, three, four, five, six, seven, eight, nine]\n",
    "\n",
    "    result = \"\"\n",
    "    for output in entry[1]:\n",
    "        for i in range(0, len(numbers)):\n",
    "            if matches(output, numbers[i]):\n",
    "                result += str(i)\n",
    "                break\n",
    "\n",
    "    count += int(result)\n",
    "\n",
    "print(f\"{count=}\")\n"
   ]
  }
 ],
 "metadata": {
  "interpreter": {
   "hash": "916dbcbb3f70747c44a77c7bcd40155683ae19c65e1c03b4aa3499c5328201f1"
  },
  "kernelspec": {
   "display_name": "Python 3.8.10 64-bit",
   "language": "python",
   "name": "python3"
  },
  "language_info": {
   "codemirror_mode": {
    "name": "ipython",
    "version": 3
   },
   "file_extension": ".py",
   "mimetype": "text/x-python",
   "name": "python",
   "nbconvert_exporter": "python",
   "pygments_lexer": "ipython3",
   "version": "3.8.10"
  },
  "orig_nbformat": 4
 },
 "nbformat": 4,
 "nbformat_minor": 2
}
