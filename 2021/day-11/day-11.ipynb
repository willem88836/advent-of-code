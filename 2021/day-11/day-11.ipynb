{
 "cells": [
  {
   "cell_type": "code",
   "execution_count": 3,
   "metadata": {},
   "outputs": [],
   "source": [
    "import json\n",
    "\n",
    "def load():\n",
    "    with open(\"./day-11.dat\", \"r\") as data_file:\n",
    "        data = [[int(energy) for energy in line.strip()] for line in data_file.readlines()]\n",
    "\n",
    "    height = len(data)\n",
    "    width = len(data[0])\n",
    "\n",
    "    return data,width,height"
   ]
  },
  {
   "cell_type": "code",
   "execution_count": 4,
   "metadata": {},
   "outputs": [
    {
     "name": "stdout",
     "output_type": "stream",
     "text": [
      "total_flashes=1719\n",
      "synchronized_at=232\n"
     ]
    }
   ],
   "source": [
    "def increase_energy(x, y):\n",
    "    flashes = 0\n",
    "    data[x][y] += 1\n",
    "    if data[x][y] == 10: \n",
    "        flashes += 1\n",
    "        for i in range(-1, 2): \n",
    "            for j in range(-1, 2): \n",
    "                if i == 0 and j == 0:\n",
    "                    continue\n",
    "\n",
    "                nx = x + i\n",
    "                ny = y + j\n",
    "\n",
    "\n",
    "                if nx < 0 or ny < 0 or nx >= width or ny >= height: \n",
    "                    continue\n",
    "\n",
    "                flashes += increase_energy(nx, ny)\n",
    "    \n",
    "    return flashes\n",
    "\n",
    "def simulate(steps):\n",
    "    total_flashes = 0\n",
    "\n",
    "    for i in range(steps): \n",
    "        for x in range(width):  \n",
    "            for y in range(height):\n",
    "                total_flashes += increase_energy(x,y)\n",
    "        \n",
    "        flashed = 0\n",
    "        for x in range(width): \n",
    "            for y in range(height): \n",
    "                if data[x][y] > 9: \n",
    "                    data[x][y] = 0\n",
    "                    flashed += 1\n",
    "\n",
    "        if (flashed >= width * height): \n",
    "            return i\n",
    "                    \n",
    "    return total_flashes\n",
    "    \n",
    "data, width, height = load()\n",
    "total_flashes = simulate(100)\n",
    "print(f'{total_flashes=}')\n",
    "\n",
    "data, _, _ = load()\n",
    "synchronized_at = simulate(500) + 1\n",
    "print(f'{synchronized_at=}')\n"
   ]
  }
 ],
 "metadata": {
  "interpreter": {
   "hash": "916dbcbb3f70747c44a77c7bcd40155683ae19c65e1c03b4aa3499c5328201f1"
  },
  "kernelspec": {
   "display_name": "Python 3.8.10 64-bit",
   "language": "python",
   "name": "python3"
  },
  "language_info": {
   "codemirror_mode": {
    "name": "ipython",
    "version": 3
   },
   "file_extension": ".py",
   "mimetype": "text/x-python",
   "name": "python",
   "nbconvert_exporter": "python",
   "pygments_lexer": "ipython3",
   "version": "3.8.10"
  },
  "orig_nbformat": 4
 },
 "nbformat": 4,
 "nbformat_minor": 2
}
