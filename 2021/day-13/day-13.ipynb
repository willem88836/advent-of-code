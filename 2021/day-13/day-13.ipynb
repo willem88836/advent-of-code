{
 "cells": [
  {
   "cell_type": "code",
   "execution_count": 133,
   "metadata": {},
   "outputs": [],
   "source": [
    "import re \n",
    "\n",
    "with open(\"./day-13.dat\", \"r\") as data_file: \n",
    "    data = []\n",
    "    folds = []\n",
    "    found_folds = False\n",
    "    for entry in data_file.readlines(): \n",
    "        entry = entry.strip()\n",
    "        if entry == '':\n",
    "            found_folds = True\n",
    "            continue\n",
    "        if found_folds: \n",
    "            split = entry.split(\" \")\n",
    "            coord = split[2].split(\"=\")\n",
    "            folds.append([coord[0], int(coord[1])])\n",
    "        else: \n",
    "            split = entry.split(\",\")\n",
    "            data.append([int(split[0]), int(split[1])])"
   ]
  },
  {
   "cell_type": "code",
   "execution_count": 134,
   "metadata": {},
   "outputs": [
    {
     "name": "stdout",
     "output_type": "stream",
     "text": [
      "filtered_len=737\n"
     ]
    }
   ],
   "source": [
    "def fold_data(index, value):\n",
    "    for i in range(len(data)):\n",
    "        entry = data[i]\n",
    "        if entry[index] > value:\n",
    "            entry[index] = value - abs(value - entry[index])\n",
    "            data[i] = entry\n",
    "\n",
    "\n",
    "def unique_dot_count():\n",
    "    filtered_data: set = set()\n",
    "    for entry in data:\n",
    "        entry_concat = f\"{entry[0]}, {entry[1]}\"\n",
    "        if not entry_concat in filtered_data:\n",
    "            filtered_data.add(entry_concat)\n",
    "    return len(filtered_data)\n",
    "\n",
    "\n",
    "if folds[0][0] == \"x\":\n",
    "    fold_data(0, folds[0][1])\n",
    "else:\n",
    "    fold_data(1, folds[0][1])\n",
    "\n",
    "filtered_len = unique_dot_count()\n",
    "print(f\"{filtered_len=}\")\n"
   ]
  },
  {
   "cell_type": "code",
   "execution_count": 135,
   "metadata": {},
   "outputs": [
    {
     "name": "stdout",
     "output_type": "stream",
     "text": [
      " # # # #   #     #       # #   #     #     # #     # # # #   #     #   # # #    \n",
      "       #   #     #         #   #     #   #     #   #         #     #   #     #  \n",
      "     #     #     #         #   #     #   #     #   # # #     # # # #   #     #  \n",
      "   #       #     #         #   #     #   # # # #   #         #     #   # # #    \n",
      " #         #     #   #     #   #     #   #     #   #         #     #   #        \n",
      " # # # #     # #       # #       # #     #     #   #         #     #   #        \n",
      "\n",
      "\n"
     ]
    }
   ],
   "source": [
    "last_x_fold = 0\n",
    "last_y_fold = 0\n",
    "\n",
    "for fold in folds[1:]:\n",
    "    if fold[0] == \"x\":\n",
    "        fold_data(0, fold[1])\n",
    "        last_x_fold = fold[1]\n",
    "    else:\n",
    "        fold_data(1, fold[1])\n",
    "        last_y_fold = fold[1]\n",
    "\n",
    "matrix = [None] * last_y_fold\n",
    "\n",
    "for i in range(last_y_fold):\n",
    "    matrix[i] = [\" \"] * last_x_fold\n",
    "\n",
    "\n",
    "for entry in data:\n",
    "    matrix[entry[1]][entry[0]] = \"#\"\n",
    "\n",
    "code = re.sub(\"'|,|[|[|]\", \"\", str(matrix))\n",
    "code = re.sub(\"]\", \"\\n\", code)\n",
    "print(f\" {code}\")\n",
    "\n",
    "for row in matrix:\n",
    "    s = \"\"\n",
    "    for cell in row:\n",
    "        s += cell\n"
   ]
  }
 ],
 "metadata": {
  "interpreter": {
   "hash": "916dbcbb3f70747c44a77c7bcd40155683ae19c65e1c03b4aa3499c5328201f1"
  },
  "kernelspec": {
   "display_name": "Python 3.8.10 64-bit",
   "language": "python",
   "name": "python3"
  },
  "language_info": {
   "codemirror_mode": {
    "name": "ipython",
    "version": 3
   },
   "file_extension": ".py",
   "mimetype": "text/x-python",
   "name": "python",
   "nbconvert_exporter": "python",
   "pygments_lexer": "ipython3",
   "version": "3.8.10"
  },
  "orig_nbformat": 4
 },
 "nbformat": 4,
 "nbformat_minor": 2
}
