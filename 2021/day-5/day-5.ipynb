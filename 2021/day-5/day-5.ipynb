{
 "cells": [
  {
   "cell_type": "code",
   "execution_count": 19,
   "metadata": {},
   "outputs": [],
   "source": [
    "import math\n",
    "import array\n",
    "from goto import with_goto\n",
    "\n",
    "with open(\"./day-5.dat\", \"r\") as data_file: \n",
    "    data_raw = data_file.readlines()\n",
    "    data = [entry.strip() for entry in data_raw]"
   ]
  },
  {
   "cell_type": "code",
   "execution_count": 20,
   "metadata": {},
   "outputs": [
    {
     "name": "stdout",
     "output_type": "stream",
     "text": [
      "count=6005\n"
     ]
    }
   ],
   "source": [
    "map = {}\n",
    "\n",
    "\n",
    "def increment(x, y):\n",
    "    if not x in map:\n",
    "        map[x] = {}\n",
    "    if not y in map[x]:\n",
    "        map[x][y] = 0\n",
    "    map[x][y] += 1\n",
    "\n",
    "\n",
    "def ordered_inclusive_range(pointA, pointB):\n",
    "    return range(pointA, pointB + 1) if pointA < pointB else range(pointB, pointA + 1)\n",
    "\n",
    "\n",
    "def process_line(start, end):\n",
    "    if start[0] == end[0]:\n",
    "        x = start[0]\n",
    "        for y in ordered_inclusive_range(start[1], end[1]):\n",
    "            increment(x, y)\n",
    "    elif start[1] == end[1]:\n",
    "        y = start[1]\n",
    "        for x in ordered_inclusive_range(start[0], end[0]):\n",
    "            increment(x, y)\n",
    "\n",
    "def count_highs(): \n",
    "    count = 0\n",
    "    for v1 in map.values():\n",
    "        for v2 in v1.values():\n",
    "            if v2 >= 2:\n",
    "                count += 1\n",
    "    return count\n",
    "\n",
    "for entry in data:\n",
    "    points = entry.split(\" -> \")\n",
    "    start = [int(point) for point in points[0].split(\",\")]\n",
    "    end = [int(point) for point in points[1].split(\",\")]\n",
    "\n",
    "    if start[0] == end[0] or start[1] == end[1]:\n",
    "        process_line(start, end)\n",
    "\n",
    "count = count_highs()\n",
    "\n",
    "print(f\"{count=}\")\n"
   ]
  },
  {
   "cell_type": "code",
   "execution_count": 21,
   "metadata": {},
   "outputs": [
    {
     "name": "stdout",
     "output_type": "stream",
     "text": [
      "count=23864\n"
     ]
    }
   ],
   "source": [
    "def process_dig_line(start, end):\n",
    "\n",
    "    if start[0] < end[0]:\n",
    "        r_start = start\n",
    "        r_end = end\n",
    "    else:\n",
    "        r_start = end\n",
    "        r_end = start\n",
    "\n",
    "    y_step = 1 if r_start[1] < r_end[1] else -1\n",
    "    y = r_start[1]\n",
    "\n",
    "    for x in range(r_start[0], r_end[0] + 1):\n",
    "        increment(x, y)\n",
    "        y += y_step\n",
    "\n",
    "\n",
    "for entry in data:\n",
    "    points = entry.split(\" -> \")\n",
    "    start = [int(point) for point in points[0].split(\",\")]\n",
    "    end = [int(point) for point in points[1].split(\",\")]\n",
    "\n",
    "    if start[0] != end[0] and start[1] != end[1]:\n",
    "        process_dig_line(start, end)\n",
    "\n",
    "count = count_highs()\n",
    "\n",
    "print(f\"{count=}\")\n"
   ]
  }
 ],
 "metadata": {
  "interpreter": {
   "hash": "916dbcbb3f70747c44a77c7bcd40155683ae19c65e1c03b4aa3499c5328201f1"
  },
  "kernelspec": {
   "display_name": "Python 3.8.10 64-bit",
   "language": "python",
   "name": "python3"
  },
  "language_info": {
   "name": "python",
   "version": "3.8.10"
  },
  "orig_nbformat": 4
 },
 "nbformat": 4,
 "nbformat_minor": 2
}
