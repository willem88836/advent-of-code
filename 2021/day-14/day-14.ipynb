{
 "cells": [
  {
   "cell_type": "code",
   "execution_count": 174,
   "metadata": {},
   "outputs": [],
   "source": [
    "with open(\"./day-14.dat\", \"r\") as data_file: \n",
    "    data = [entry.strip() for entry in data_file.readlines()]\n",
    "\n",
    "    template = data[0]\n",
    "    data = data[2:]"
   ]
  },
  {
   "cell_type": "code",
   "execution_count": 175,
   "metadata": {},
   "outputs": [
    {
     "name": "stdout",
     "output_type": "stream",
     "text": [
      "result=2712\n"
     ]
    }
   ],
   "source": [
    "transition_rules = {}\n",
    "\n",
    "for entry in data:\n",
    "    rule = entry.split(\" -> \")\n",
    "    transition_rules[rule[0]] = rule[1]\n",
    "\n",
    "def simulate(steps):\n",
    "    current_polymer = template\n",
    "    new_polymer = \"\"\n",
    "    for _ in range(steps):\n",
    "        for j in range(len(current_polymer) - 1):\n",
    "\n",
    "            new_polymer += current_polymer[j]\n",
    "            premise = current_polymer[j : j + 2]\n",
    "\n",
    "            if premise in transition_rules:\n",
    "                new_polymer += transition_rules[premise]\n",
    "\n",
    "        new_polymer += current_polymer[-1]\n",
    "\n",
    "        current_polymer = new_polymer\n",
    "        new_polymer = \"\"\n",
    "    return current_polymer\n",
    "\n",
    "def get_difference(current_polymer): \n",
    "    count = {}\n",
    "    for e in current_polymer:\n",
    "        if e not in count:\n",
    "            count[e] = 1\n",
    "        else:\n",
    "            count[e] += 1\n",
    "\n",
    "    result = max(count.values()) - min(count.values())\n",
    "    return result\n",
    "\n",
    "\n",
    "polymer = simulate(10)\n",
    "result = get_difference(polymer)\n",
    "print(f\"{result=}\")\n"
   ]
  },
  {
   "cell_type": "code",
   "execution_count": 176,
   "metadata": {},
   "outputs": [
    {
     "name": "stdout",
     "output_type": "stream",
     "text": [
      "result=8336623059567\n"
     ]
    }
   ],
   "source": [
    "def safe_add(dictionary: dict, element, value):\n",
    "    if not element in dictionary:\n",
    "        dictionary[element] = value\n",
    "    else:\n",
    "        dictionary[element] += value\n",
    "    return dictionary\n",
    "\n",
    "\n",
    "def new_simulate(steps):\n",
    "    premises = {}\n",
    "\n",
    "    current_polymer = template\n",
    "    for i in range(len(current_polymer) - 1):\n",
    "        premise = current_polymer[i : i + 2]\n",
    "        premises = safe_add(premises, premise, 1)\n",
    "\n",
    "    new_premises = {}\n",
    "    for _ in range(steps):\n",
    "        for key, value in premises.items():\n",
    "            if key in transition_rules:\n",
    "                infix = transition_rules[key]\n",
    "\n",
    "                new_premises = safe_add(new_premises, f\"{key[0]}{infix}\", value)\n",
    "                new_premises = safe_add(new_premises, f\"{infix}{key[1]}\", value)\n",
    "\n",
    "            else:\n",
    "                new_premises[key] = value\n",
    "\n",
    "        premises = new_premises\n",
    "        new_premises = {}\n",
    "\n",
    "    return premises\n",
    "\n",
    "\n",
    "def new_get_difference(polymer_dict):\n",
    "    first_char = template[0]\n",
    "    last_char = template[-1]\n",
    "\n",
    "    counts = {}\n",
    "    for key, value in polymer_dict.items():\n",
    "        counts = safe_add(counts, key[0], value)\n",
    "        counts = safe_add(counts, key[1], value)\n",
    "\n",
    "    for key, value in counts.items():\n",
    "        if key == first_char or key == last_char:\n",
    "            value += 1\n",
    "\n",
    "        counts[key] = int(value / 2)\n",
    "\n",
    "    max_char = max(counts.values())\n",
    "    min_char = min(counts.values())\n",
    "\n",
    "    return max_char - min_char\n",
    "\n",
    "\n",
    "polymer = new_simulate(40)\n",
    "result = new_get_difference(polymer)\n",
    "print(f\"{result=}\")\n"
   ]
  }
 ],
 "metadata": {
  "interpreter": {
   "hash": "916dbcbb3f70747c44a77c7bcd40155683ae19c65e1c03b4aa3499c5328201f1"
  },
  "kernelspec": {
   "display_name": "Python 3.8.10 64-bit",
   "language": "python",
   "name": "python3"
  },
  "language_info": {
   "codemirror_mode": {
    "name": "ipython",
    "version": 3
   },
   "file_extension": ".py",
   "mimetype": "text/x-python",
   "name": "python",
   "nbconvert_exporter": "python",
   "pygments_lexer": "ipython3",
   "version": "3.8.10"
  },
  "orig_nbformat": 4
 },
 "nbformat": 4,
 "nbformat_minor": 2
}
