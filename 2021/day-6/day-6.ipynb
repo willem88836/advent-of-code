{
 "cells": [
  {
   "cell_type": "code",
   "execution_count": 140,
   "metadata": {},
   "outputs": [],
   "source": [
    "with open(\"./day-6.dat\", \"r\") as data_file: \n",
    "    data_raw = data_file.read()\n",
    "    entries = data_raw.split(\",\")\n",
    "\n",
    "fish = {}\n",
    "for entry in entries: \n",
    "    entry_no = int(entry)\n",
    "    if entry_no in fish: \n",
    "        fish[entry_no] += 1\n",
    "    else: \n",
    "        fish[entry_no] = 1"
   ]
  },
  {
   "cell_type": "code",
   "execution_count": 141,
   "metadata": {},
   "outputs": [
    {
     "name": "stdout",
     "output_type": "stream",
     "text": [
      "359344\n"
     ]
    }
   ],
   "source": [
    "new_fish = {}\n",
    "\n",
    "def move_fish(timer, count): \n",
    "    if timer in new_fish: \n",
    "        new_fish[timer] += count\n",
    "    else: \n",
    "        new_fish[timer] = count\n",
    "\n",
    "def simulate_fish(days, fish): \n",
    "    for day in range(0, days):\n",
    "        for timer, count in fish.items():\n",
    "            move_fish(timer - 1, count)\n",
    "\n",
    "        if -1 in new_fish:\n",
    "            new_fish_count = new_fish[-1]\n",
    "            move_fish(6, new_fish_count)\n",
    "            move_fish(8, new_fish_count)\n",
    "            del new_fish[-1]\n",
    "\n",
    "        fish = new_fish.copy()\n",
    "        new_fish.clear()\n",
    "\n",
    "    sum = 0\n",
    "    for count in fish.values():\n",
    "        sum += count\n",
    "\n",
    "    return sum \n",
    "\n",
    "fish_count = simulate_fish(80, fish)\n",
    "\n",
    "print(f'{fish_count}')"
   ]
  },
  {
   "cell_type": "code",
   "execution_count": 142,
   "metadata": {},
   "outputs": [
    {
     "name": "stdout",
     "output_type": "stream",
     "text": [
      "fish_count=1629570219571\n"
     ]
    }
   ],
   "source": [
    "fish_count = simulate_fish(256, fish)\n",
    "\n",
    "print(f'{fish_count=}')"
   ]
  }
 ],
 "metadata": {
  "interpreter": {
   "hash": "916dbcbb3f70747c44a77c7bcd40155683ae19c65e1c03b4aa3499c5328201f1"
  },
  "kernelspec": {
   "display_name": "Python 3.8.10 64-bit",
   "language": "python",
   "name": "python3"
  },
  "language_info": {
   "codemirror_mode": {
    "name": "ipython",
    "version": 3
   },
   "file_extension": ".py",
   "mimetype": "text/x-python",
   "name": "python",
   "nbconvert_exporter": "python",
   "pygments_lexer": "ipython3",
   "version": "3.8.10"
  },
  "orig_nbformat": 4
 },
 "nbformat": 4,
 "nbformat_minor": 2
}
