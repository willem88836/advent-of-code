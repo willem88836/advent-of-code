{
 "cells": [
  {
   "cell_type": "code",
   "execution_count": 31,
   "metadata": {},
   "outputs": [],
   "source": [
    "with open(\"./day-7.dat\", \"r\") as data_file: \n",
    "    data_raw = data_file.read()\n",
    "    entries = [int(entry) for entry in data_raw.split(\",\")] "
   ]
  },
  {
   "cell_type": "code",
   "execution_count": 32,
   "metadata": {},
   "outputs": [
    {
     "name": "stdout",
     "output_type": "stream",
     "text": [
      "min_distance=328262\n"
     ]
    }
   ],
   "source": [
    "\n",
    "def summed_distance(point): \n",
    "    distance = 0\n",
    "    for entry in entries:\n",
    "        distance += abs(entry - point)\n",
    "    return distance\n",
    "    \n",
    "\n",
    "def geometric_middle(): \n",
    "    entry_set = set(entries)\n",
    "    \n",
    "    minimum = 99999999999999\n",
    "    maximum = 0\n",
    "\n",
    "    for entry in entry_set: \n",
    "        if entry < minimum: \n",
    "            minimum = entry\n",
    "        elif entry > maximum: \n",
    "            maximum = entry\n",
    "\n",
    "    min_distance = 9999999999999999999\n",
    "    for i in range(minimum, maximum): \n",
    "        dist = summed_distance(i)\n",
    "        if dist < min_distance: \n",
    "            min_distance = dist\n",
    "\n",
    "    return min_distance\n",
    "\n",
    "min_distance = geometric_middle()            \n",
    "print(f'{min_distance=}')"
   ]
  },
  {
   "cell_type": "code",
   "execution_count": 33,
   "metadata": {},
   "outputs": [
    {
     "name": "stdout",
     "output_type": "stream",
     "text": [
      "min_distance=90040997\n"
     ]
    }
   ],
   "source": [
    "fac = {}\n",
    "fac[0] = 0\n",
    "\n",
    "for i in range(1, 3000): \n",
    "    fac[i] = fac[i - 1] + i\n",
    "\n",
    "def new_summed_distance(point): \n",
    "    dist = 0\n",
    "    for entry in entries: \n",
    "        d = abs(point - entry)\n",
    "        dist += fac[d]\n",
    "    return dist\n",
    "\n",
    "summed_distance = new_summed_distance\n",
    "min_distance = geometric_middle()\n",
    "\n",
    "print(f'{min_distance=}')"
   ]
  }
 ],
 "metadata": {
  "interpreter": {
   "hash": "916dbcbb3f70747c44a77c7bcd40155683ae19c65e1c03b4aa3499c5328201f1"
  },
  "kernelspec": {
   "display_name": "Python 3.8.10 64-bit",
   "language": "python",
   "name": "python3"
  },
  "language_info": {
   "codemirror_mode": {
    "name": "ipython",
    "version": 3
   },
   "file_extension": ".py",
   "mimetype": "text/x-python",
   "name": "python",
   "nbconvert_exporter": "python",
   "pygments_lexer": "ipython3",
   "version": "3.8.10"
  },
  "orig_nbformat": 4
 },
 "nbformat": 4,
 "nbformat_minor": 2
}
