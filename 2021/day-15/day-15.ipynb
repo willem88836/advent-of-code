{
 "cells": [
  {
   "cell_type": "code",
   "execution_count": 240,
   "metadata": {},
   "outputs": [],
   "source": [
    "import math\n",
    "\n",
    "with open(\"./day-15.dat\", \"r\") as data_file:\n",
    "    data = [\n",
    "        [int(value) for value in list(entry.strip())] for entry in data_file.readlines()\n",
    "    ]\n",
    "    size = len(data)\n"
   ]
  },
  {
   "cell_type": "code",
   "execution_count": 241,
   "metadata": {},
   "outputs": [],
   "source": [
    "class queue:\n",
    "    def __init__(self, initial_size=500):\n",
    "        self._initial_size = initial_size\n",
    "        self._data = [None] * initial_size\n",
    "        self._start = 0\n",
    "        self._end = 0\n",
    "\n",
    "    def enqueue(self, element):\n",
    "        self._data[self._end] = element\n",
    "        self._end = (self._end + 1) % self._initial_size\n",
    "        if self._end == self._start:\n",
    "            print(f\"reached limit {len(self._data)}\")\n",
    "\n",
    "    def dequeue(self):\n",
    "        entry = self._data[self._start]\n",
    "        self._start = (self._start + 1) % self._initial_size\n",
    "        return entry\n",
    "\n",
    "    def size(self):\n",
    "        if self._end < self._start:\n",
    "            return self._initial_size - self._start + self._end\n",
    "        else:\n",
    "            return self._end - self._start\n"
   ]
  },
  {
   "cell_type": "code",
   "execution_count": 242,
   "metadata": {},
   "outputs": [
    {
     "name": "stdout",
     "output_type": "stream",
     "text": [
      "x=95, y=97 | xi=95, yi=98 | data[yi][xi]=1 | danger=607 (new_danger=608)\n",
      "x=94, y=98 | xi=95, yi=98 | data[yi][xi]=1 | danger=599 (new_danger=600)\n",
      "x=99, y=99, danger=622\n",
      "9\n",
      "min_risk=622\n"
     ]
    }
   ],
   "source": [
    "dangermap = [None] * size\n",
    "for i in range(size):\n",
    "    dangermap[i] = [999999] * size\n",
    "dangermap[0][0] = 0\n",
    "\n",
    "current_node = 0\n",
    "\n",
    "completed_nodes = {-1}\n",
    "active_nodes = queue(size ** 2 + 1)\n",
    "for i in range(size ** 2):\n",
    "    active_nodes.enqueue(i)\n",
    "\n",
    "while active_nodes.size() > 0:\n",
    "    current_node = active_nodes.dequeue()\n",
    "    if current_node in completed_nodes:\n",
    "        continue\n",
    "\n",
    "\n",
    "    completed_nodes.add(current_node)\n",
    "    y = math.floor(current_node / size)\n",
    "    x = current_node % size\n",
    "    danger = dangermap[y][x]\n",
    "\n",
    "    if current_node == size ** 2 - 1:\n",
    "        print(f'{x=}, {y=}, {danger=}')\n",
    "        print(f'{data[y][x]}')\n",
    "        break\n",
    "\n",
    "    for j in range(-1, 2):\n",
    "        for i in range(-1, 2):\n",
    "            if (i == -1 or i == 1) and (j == -1 or j == 1):\n",
    "                continue\n",
    "\n",
    "            if i == 0 and j == 0:\n",
    "                continue\n",
    "\n",
    "            yi = y + j\n",
    "            xi = x + i\n",
    "\n",
    "            if xi < 0 or yi < 0 or xi >= size or yi >= size:\n",
    "                continue\n",
    "\n",
    "            other_index = yi * size + xi\n",
    "            if other_index in completed_nodes:\n",
    "                continue\n",
    "            \n",
    "            new_danger = data[yi][xi] + danger\n",
    "\n",
    "            if other_index == size ** 2 - (size + 5): \n",
    "                print(f'{x=}, {y=} | {xi=}, {yi=} | {data[yi][xi]=} | {danger=} ({new_danger=})')\n",
    "\n",
    "            if new_danger < dangermap[yi][xi]:\n",
    "                dangermap[yi][xi] = new_danger\n",
    "\n",
    "# print(dangermap)\n",
    "min_risk = dangermap[y][x]\n",
    "print(f\"{min_risk=}\")\n"
   ]
  }
 ],
 "metadata": {
  "interpreter": {
   "hash": "916dbcbb3f70747c44a77c7bcd40155683ae19c65e1c03b4aa3499c5328201f1"
  },
  "kernelspec": {
   "display_name": "Python 3.8.10 64-bit",
   "language": "python",
   "name": "python3"
  },
  "language_info": {
   "codemirror_mode": {
    "name": "ipython",
    "version": 3
   },
   "file_extension": ".py",
   "mimetype": "text/x-python",
   "name": "python",
   "nbconvert_exporter": "python",
   "pygments_lexer": "ipython3",
   "version": "3.8.10"
  },
  "orig_nbformat": 4
 },
 "nbformat": 4,
 "nbformat_minor": 2
}
