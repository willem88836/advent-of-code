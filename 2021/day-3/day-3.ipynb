{
 "cells": [
  {
   "cell_type": "code",
   "execution_count": 147,
   "metadata": {},
   "outputs": [],
   "source": [
    "import math\n",
    "import array\n",
    "\n",
    "with open(\"./day-3.dat\", \"r\") as data_file: \n",
    "    data_raw = data_file.readlines()"
   ]
  },
  {
   "cell_type": "code",
   "execution_count": 148,
   "metadata": {},
   "outputs": [
    {
     "name": "stdout",
     "output_type": "stream",
     "text": [
      "gamma*epsilon=3549854\n"
     ]
    }
   ],
   "source": [
    "bit_count = [0] * (len(data_raw[0]) - 1)\n",
    "\n",
    "for entry in data_raw: \n",
    "    entry = entry.strip()\n",
    "    for i in range(len(entry)): \n",
    "        bit = int(entry[i])\n",
    "        bit_count[i] += bit\n",
    "\n",
    "gamma = 0\n",
    "epsilon = 0\n",
    "\n",
    "for i in range(len(bit_count)):\n",
    "    count = bit_count[i]\n",
    "    p = int(math.pow(2, len(bit_count) - (i + 1)))\n",
    "\n",
    "    if count > int(len(data_raw) / 2): \n",
    "        gamma += p\n",
    "    else: \n",
    "        epsilon += p\n",
    "        \n",
    "print(f'{gamma*epsilon=}')"
   ]
  },
  {
   "cell_type": "code",
   "execution_count": 149,
   "metadata": {},
   "outputs": [
    {
     "name": "stdout",
     "output_type": "stream",
     "text": [
      "ox=2783, co=1353\n",
      "ox*co=3765399\n"
     ]
    }
   ],
   "source": [
    "def find_mcb(set, position): \n",
    "    count = 0\n",
    "\n",
    "    for entry in set: \n",
    "        count += int(entry[position])\n",
    "\n",
    "    return 1 if count >= (len(set) / 2) else 0\n",
    "\n",
    "def find_lcb(set, position): \n",
    "    count = 0\n",
    "\n",
    "    for entry in set: \n",
    "        count += int(entry[position])\n",
    "\n",
    "    return 0 if count >= (len(set) / 2) else 1\n",
    "\n",
    "def prune(data, position, bit): \n",
    "    pruned = []\n",
    "\n",
    "    for entry in data: \n",
    "        if int(entry[position]) == bit: \n",
    "            pruned.append(entry)\n",
    "            \n",
    "    return pruned\n",
    "\n",
    "def to_dec(bin): \n",
    "    d = 0\n",
    "    for i in range(len(bin) - 1):\n",
    "        b = int(bin[i]) \n",
    "        p = int(math.pow(2, len(bit_count) - (i + 1)))\n",
    "        d += b * p\n",
    "    return d\n",
    "\n",
    "ox = data_raw.copy()\n",
    "co = data_raw\n",
    "for i in range(len(data_raw[0]) - 1): \n",
    "    if len(ox) > 1:\n",
    "        mcb = find_mcb(ox, i)\n",
    "        ox = prune(ox, i, mcb)\n",
    "\n",
    "    if len(co) > 1:\n",
    "        lcb = find_lcb(co, i)\n",
    "        co = prune(co, i, lcb)\n",
    "\n",
    "ox = to_dec(ox[0])\n",
    "co = to_dec(co[0])\n",
    "\n",
    "print(f'{ox*co=}')\n"
   ]
  }
 ],
 "metadata": {
  "interpreter": {
   "hash": "916dbcbb3f70747c44a77c7bcd40155683ae19c65e1c03b4aa3499c5328201f1"
  },
  "kernelspec": {
   "display_name": "Python 3.8.10 64-bit",
   "language": "python",
   "name": "python3"
  },
  "language_info": {
   "codemirror_mode": {
    "name": "ipython",
    "version": 3
   },
   "file_extension": ".py",
   "mimetype": "text/x-python",
   "name": "python",
   "nbconvert_exporter": "python",
   "pygments_lexer": "ipython3",
   "version": "3.8.10"
  },
  "orig_nbformat": 4
 },
 "nbformat": 4,
 "nbformat_minor": 2
}
