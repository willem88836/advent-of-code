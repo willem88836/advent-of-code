{
 "cells": [
  {
   "cell_type": "code",
   "execution_count": 8,
   "metadata": {},
   "outputs": [],
   "source": [
    "with open(\"./day-2.dat\", \"r\") as data_file: \n",
    "    data_raw = data_file.readlines()\n",
    "\n",
    "input = [point.split(\" \") for point in data_raw]"
   ]
  },
  {
   "cell_type": "code",
   "execution_count": 9,
   "metadata": {},
   "outputs": [
    {
     "name": "stdout",
     "output_type": "stream",
     "text": [
      "distance*depth=1693300\n"
     ]
    }
   ],
   "source": [
    "distance = 0\n",
    "depth = 0\n",
    "\n",
    "for entry in input:\n",
    "    key = entry[0]\n",
    "    amount = int(entry[1])\n",
    "    if key == \"forward\": \n",
    "        distance += amount\n",
    "    elif key == \"up\":\n",
    "        depth -= amount\n",
    "    elif key == \"down\": \n",
    "        depth += amount\n",
    "\n",
    "print(f'{distance*depth=}')"
   ]
  },
  {
   "cell_type": "code",
   "execution_count": 10,
   "metadata": {},
   "outputs": [
    {
     "name": "stdout",
     "output_type": "stream",
     "text": [
      "distance*depth=1857958050\n"
     ]
    }
   ],
   "source": [
    "distance = 0\n",
    "depth = 0\n",
    "aim = 0\n",
    "\n",
    "for entry in input: \n",
    "    key = entry[0]\n",
    "    amount = int(entry[1])\n",
    "\n",
    "    if key == \"forward\":\n",
    "        distance += amount\n",
    "        depth += aim * amount\n",
    "    elif key == \"up\":\n",
    "        aim -= amount\n",
    "    elif key == \"down\":\n",
    "        aim += amount\n",
    "\n",
    "print(f'{distance*depth=}')"
   ]
  }
 ],
 "metadata": {
  "interpreter": {
   "hash": "916dbcbb3f70747c44a77c7bcd40155683ae19c65e1c03b4aa3499c5328201f1"
  },
  "kernelspec": {
   "display_name": "Python 3.8.10 64-bit",
   "language": "python",
   "name": "python3"
  },
  "language_info": {
   "codemirror_mode": {
    "name": "ipython",
    "version": 3
   },
   "file_extension": ".py",
   "mimetype": "text/x-python",
   "name": "python",
   "nbconvert_exporter": "python",
   "pygments_lexer": "ipython3",
   "version": "3.8.10"
  },
  "orig_nbformat": 4
 },
 "nbformat": 4,
 "nbformat_minor": 2
}
