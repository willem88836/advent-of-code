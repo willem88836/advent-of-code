{
 "cells": [
  {
   "cell_type": "code",
   "execution_count": 19,
   "metadata": {},
   "outputs": [],
   "source": [
    "with open(\"./day-9.dat\", \"r\") as data_file: \n",
    "    data = [line.strip() for line in data_file.readlines()]"
   ]
  },
  {
   "cell_type": "code",
   "execution_count": 20,
   "metadata": {},
   "outputs": [
    {
     "name": "stdout",
     "output_type": "stream",
     "text": [
      "risk_level=439\n"
     ]
    }
   ],
   "source": [
    "risk_level = 0\n",
    "low_points = []\n",
    "\n",
    "for i in range(len(data)):\n",
    "    entry = data[i]\n",
    "\n",
    "    for j in range(len(entry)):\n",
    "        cell = entry[j]\n",
    "\n",
    "        # above\n",
    "        if i > 0 and data[i - 1][j] <= cell:\n",
    "            continue\n",
    "\n",
    "        # left\n",
    "        if j > 0 and data[i][j - 1] <= cell:\n",
    "            continue\n",
    "\n",
    "        # below\n",
    "        if i < len(data) - 1 and data[i + 1][j] <= cell:\n",
    "            continue\n",
    "\n",
    "        # right\n",
    "        if j < len(data) - 1 and data[i][j + 1] <= cell:\n",
    "            continue\n",
    "\n",
    "        low_points.append((i, j))\n",
    "        risk_level += 1 + int(cell)\n",
    "\n",
    "print(f\"{risk_level=}\")\n"
   ]
  },
  {
   "cell_type": "code",
   "execution_count": 21,
   "metadata": {},
   "outputs": [
    {
     "name": "stdout",
     "output_type": "stream",
     "text": [
      "result=900900\n"
     ]
    }
   ],
   "source": [
    "def safe_add(s: set, entry):\n",
    "    if not entry in completed_points:\n",
    "        active_points.add(entry)\n",
    "\n",
    "basins = [0] * len(low_points)\n",
    "\n",
    "for k in range(len(low_points)):\n",
    "    low_point = low_points[k]\n",
    "\n",
    "    completed_points = {(-1, -1)}\n",
    "    active_points = {low_point}\n",
    "\n",
    "    while len(active_points) > 0:\n",
    "        i, j = active_points.pop()\n",
    "\n",
    "        if i < 0 or j < 0 or i >= len(data) or j >= len(data[i]):\n",
    "            continue\n",
    "\n",
    "        if int(data[i][j]) == 9:\n",
    "            continue\n",
    "\n",
    "        completed_points.add((i, j))\n",
    "\n",
    "        safe_add(active_points, (i - 1, j))\n",
    "        safe_add(active_points, (i, j - 1))\n",
    "        safe_add(active_points, (i + 1, j))\n",
    "        safe_add(active_points, (i, j + 1))\n",
    "\n",
    "    basins[k] = len(completed_points) - 1\n",
    "\n",
    "basins.sort(key=lambda x: -x)\n",
    "\n",
    "result = basins[0] * basins[1] * basins[2]\n",
    "\n",
    "print(f\"{result=}\")\n"
   ]
  }
 ],
 "metadata": {
  "interpreter": {
   "hash": "916dbcbb3f70747c44a77c7bcd40155683ae19c65e1c03b4aa3499c5328201f1"
  },
  "kernelspec": {
   "display_name": "Python 3.8.10 64-bit",
   "language": "python",
   "name": "python3"
  },
  "language_info": {
   "codemirror_mode": {
    "name": "ipython",
    "version": 3
   },
   "file_extension": ".py",
   "mimetype": "text/x-python",
   "name": "python",
   "nbconvert_exporter": "python",
   "pygments_lexer": "ipython3",
   "version": "3.8.10"
  },
  "orig_nbformat": 4
 },
 "nbformat": 4,
 "nbformat_minor": 2
}
