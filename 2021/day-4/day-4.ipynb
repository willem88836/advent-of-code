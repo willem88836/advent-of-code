{
 "cells": [
  {
   "cell_type": "code",
   "execution_count": 41,
   "metadata": {},
   "outputs": [],
   "source": [
    "import math\n",
    "import array\n",
    "from goto import with_goto\n",
    "\n",
    "with open(\"./day-4.dat\", \"r\") as data_file: \n",
    "    data_raw = data_file.readlines()\n",
    "    data = [entry.strip() for entry in data_raw]"
   ]
  },
  {
   "cell_type": "code",
   "execution_count": 42,
   "metadata": {},
   "outputs": [],
   "source": [
    "numbers = data[0].split(\",\")\n",
    "\n",
    "def generate_boards(): \n",
    "    boards = []\n",
    "\n",
    "    for i in range(2, len(data), 6): \n",
    "        board = []\n",
    "        \n",
    "        for row in data[i:i+5]: \n",
    "            board.append([cell for cell in filter(None, row.split(\" \"))])\n",
    "        boards.append(board)\n",
    "    \n",
    "    return boards"
   ]
  },
  {
   "cell_type": "code",
   "execution_count": 43,
   "metadata": {},
   "outputs": [
    {
     "name": "stdout",
     "output_type": "stream",
     "text": [
      "calculate_score(winner, number)=8442\n"
     ]
    }
   ],
   "source": [
    "def row_complete(board, row): \n",
    "    for cell in board[row]: \n",
    "        if not cell == \"X\": \n",
    "            return False\n",
    "    return True\n",
    "\n",
    "def column_complete (board, column): \n",
    "    for row in board: \n",
    "        if not row[column] == \"X\": \n",
    "            return False\n",
    "    return True\n",
    "\n",
    "def mark_item (board, item): \n",
    "    for i in range(len(board)):\n",
    "        row = board[i]\n",
    "        for j in range(len(row)): \n",
    "            cell = row[j]\n",
    "            if cell == item: \n",
    "                board[i][j] = \"X\"\n",
    "                return board, i, j\n",
    "    return board, -1, -1\n",
    "\n",
    "def find_winner(boards): \n",
    "    for number in numbers: \n",
    "        for i in range (len(boards)): \n",
    "            boards[i], row, col = mark_item(boards[i], number)\n",
    "            if row != -1 and col != -1: \n",
    "                if row_complete(boards[i], row) or column_complete(boards[i], col): \n",
    "                    return boards[i], int(number)\n",
    "\n",
    "def calculate_score(winner, number): \n",
    "    sum = 0\n",
    "    for row in winner: \n",
    "        for cell in row: \n",
    "            if cell != \"X\": \n",
    "                sum += int(cell)\n",
    "    return sum * number\n",
    "\n",
    "boards = generate_boards()\n",
    "winner, number = find_winner(boards)\n",
    "print(f'{calculate_score(winner, number)=}')\n",
    "\n"
   ]
  },
  {
   "cell_type": "code",
   "execution_count": 44,
   "metadata": {},
   "outputs": [
    {
     "name": "stdout",
     "output_type": "stream",
     "text": [
      "score=4590\n"
     ]
    }
   ],
   "source": [
    "def find_last_winner(boards): \n",
    "    boards_left = len(boards)\n",
    "    for number in numbers: \n",
    "        for j in range(len(boards)): \n",
    "            i = len(boards) - (j + 1)\n",
    "\n",
    "            if len(boards[i]) == 1: \n",
    "                continue\n",
    "\n",
    "            boards[i], row, col = mark_item(boards[i], number)\n",
    "            if row != -1 and col != -1:\n",
    "                if row_complete(boards[i], row) or column_complete(boards[i], col): \n",
    "                    if boards_left > 1: \n",
    "                        boards[i] = [[]]\n",
    "                        boards_left -= 1\n",
    "                    else:\n",
    "                        return boards[i], int(number)\n",
    "\n",
    "boards = generate_boards()\n",
    "winner, number = find_last_winner(boards)\n",
    "score = calculate_score(winner, number)\n",
    "\n",
    "print(f'{score=}')"
   ]
  }
 ],
 "metadata": {
  "interpreter": {
   "hash": "916dbcbb3f70747c44a77c7bcd40155683ae19c65e1c03b4aa3499c5328201f1"
  },
  "kernelspec": {
   "display_name": "Python 3.8.10 64-bit",
   "language": "python",
   "name": "python3"
  },
  "language_info": {
   "codemirror_mode": {
    "name": "ipython",
    "version": 3
   },
   "file_extension": ".py",
   "mimetype": "text/x-python",
   "name": "python",
   "nbconvert_exporter": "python",
   "pygments_lexer": "ipython3",
   "version": "3.8.10"
  },
  "orig_nbformat": 4
 },
 "nbformat": 4,
 "nbformat_minor": 2
}
